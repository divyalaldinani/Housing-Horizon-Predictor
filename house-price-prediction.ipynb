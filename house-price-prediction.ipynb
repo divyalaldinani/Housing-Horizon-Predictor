{
  "metadata": {
    "kernelspec": {
      "name": "python",
      "display_name": "Python (Pyodide)",
      "language": "python"
    },
    "language_info": {
      "codemirror_mode": {
        "name": "python",
        "version": 3
      },
      "file_extension": ".py",
      "mimetype": "text/x-python",
      "name": "python",
      "nbconvert_exporter": "python",
      "pygments_lexer": "ipython3",
      "version": "3.8"
    }
  },
  "nbformat_minor": 4,
  "nbformat": 4,
  "cells": [
    {
      "cell_type": "code",
      "source": "import numpy as np\nimport pandas as pd\nfrom sklearn.model_selection import train_test_split\nfrom sklearn.linear_model import LinearRegression\nfrom sklearn.preprocessing import StandardScaler, MinMaxScaler, MaxAbsScaler\nfrom sklearn.metrics import mean_squared_error, r2_score",
      "metadata": {
        "trusted": true
      },
      "outputs": [],
      "execution_count": 29
    },
    {
      "cell_type": "code",
      "source": "df = pd.read_csv('Housing.csv')\nprint(df)",
      "metadata": {
        "trusted": true
      },
      "outputs": [
        {
          "name": "stdout",
          "text": "        price  area  bedrooms  bathrooms  stories mainroad guestroom basement  \\\n0    13300000  7420         4          2        3      yes        no       no   \n1    12250000  8960         4          4        4      yes        no       no   \n2    12250000  9960         3          2        2      yes        no      yes   \n3    12215000  7500         4          2        2      yes        no      yes   \n4    11410000  7420         4          1        2      yes       yes      yes   \n..        ...   ...       ...        ...      ...      ...       ...      ...   \n540   1820000  3000         2          1        1      yes        no      yes   \n541   1767150  2400         3          1        1       no        no       no   \n542   1750000  3620         2          1        1      yes        no       no   \n543   1750000  2910         3          1        1       no        no       no   \n544   1750000  3850         3          1        2      yes        no       no   \n\n    hotwaterheating airconditioning  parking prefarea furnishingstatus  \n0                no             yes        2      yes        furnished  \n1                no             yes        3       no        furnished  \n2                no              no        2      yes   semi-furnished  \n3                no             yes        3      yes        furnished  \n4                no             yes        2       no        furnished  \n..              ...             ...      ...      ...              ...  \n540              no              no        2       no      unfurnished  \n541              no              no        0       no   semi-furnished  \n542              no              no        0       no      unfurnished  \n543              no              no        0       no        furnished  \n544              no              no        0       no      unfurnished  \n\n[545 rows x 13 columns]\n",
          "output_type": "stream"
        }
      ],
      "execution_count": 30
    },
    {
      "cell_type": "code",
      "source": "data = df.where(pd.notnull(df), '')",
      "metadata": {
        "trusted": true
      },
      "outputs": [],
      "execution_count": 31
    },
    {
      "cell_type": "code",
      "source": "data.head(10)",
      "metadata": {
        "trusted": true
      },
      "outputs": [
        {
          "execution_count": 32,
          "output_type": "execute_result",
          "data": {
            "text/plain": "      price   area  bedrooms  bathrooms  stories mainroad guestroom basement  \\\n0  13300000   7420         4          2        3      yes        no       no   \n1  12250000   8960         4          4        4      yes        no       no   \n2  12250000   9960         3          2        2      yes        no      yes   \n3  12215000   7500         4          2        2      yes        no      yes   \n4  11410000   7420         4          1        2      yes       yes      yes   \n5  10850000   7500         3          3        1      yes        no      yes   \n6  10150000   8580         4          3        4      yes        no       no   \n7  10150000  16200         5          3        2      yes        no       no   \n8   9870000   8100         4          1        2      yes       yes      yes   \n9   9800000   5750         3          2        4      yes       yes       no   \n\n  hotwaterheating airconditioning  parking prefarea furnishingstatus  \n0              no             yes        2      yes        furnished  \n1              no             yes        3       no        furnished  \n2              no              no        2      yes   semi-furnished  \n3              no             yes        3      yes        furnished  \n4              no             yes        2       no        furnished  \n5              no             yes        2      yes   semi-furnished  \n6              no             yes        2      yes   semi-furnished  \n7              no              no        0       no      unfurnished  \n8              no             yes        2      yes        furnished  \n9              no             yes        1      yes      unfurnished  ",
            "text/html": "<div>\n<style scoped>\n    .dataframe tbody tr th:only-of-type {\n        vertical-align: middle;\n    }\n\n    .dataframe tbody tr th {\n        vertical-align: top;\n    }\n\n    .dataframe thead th {\n        text-align: right;\n    }\n</style>\n<table border=\"1\" class=\"dataframe\">\n  <thead>\n    <tr style=\"text-align: right;\">\n      <th></th>\n      <th>price</th>\n      <th>area</th>\n      <th>bedrooms</th>\n      <th>bathrooms</th>\n      <th>stories</th>\n      <th>mainroad</th>\n      <th>guestroom</th>\n      <th>basement</th>\n      <th>hotwaterheating</th>\n      <th>airconditioning</th>\n      <th>parking</th>\n      <th>prefarea</th>\n      <th>furnishingstatus</th>\n    </tr>\n  </thead>\n  <tbody>\n    <tr>\n      <th>0</th>\n      <td>13300000</td>\n      <td>7420</td>\n      <td>4</td>\n      <td>2</td>\n      <td>3</td>\n      <td>yes</td>\n      <td>no</td>\n      <td>no</td>\n      <td>no</td>\n      <td>yes</td>\n      <td>2</td>\n      <td>yes</td>\n      <td>furnished</td>\n    </tr>\n    <tr>\n      <th>1</th>\n      <td>12250000</td>\n      <td>8960</td>\n      <td>4</td>\n      <td>4</td>\n      <td>4</td>\n      <td>yes</td>\n      <td>no</td>\n      <td>no</td>\n      <td>no</td>\n      <td>yes</td>\n      <td>3</td>\n      <td>no</td>\n      <td>furnished</td>\n    </tr>\n    <tr>\n      <th>2</th>\n      <td>12250000</td>\n      <td>9960</td>\n      <td>3</td>\n      <td>2</td>\n      <td>2</td>\n      <td>yes</td>\n      <td>no</td>\n      <td>yes</td>\n      <td>no</td>\n      <td>no</td>\n      <td>2</td>\n      <td>yes</td>\n      <td>semi-furnished</td>\n    </tr>\n    <tr>\n      <th>3</th>\n      <td>12215000</td>\n      <td>7500</td>\n      <td>4</td>\n      <td>2</td>\n      <td>2</td>\n      <td>yes</td>\n      <td>no</td>\n      <td>yes</td>\n      <td>no</td>\n      <td>yes</td>\n      <td>3</td>\n      <td>yes</td>\n      <td>furnished</td>\n    </tr>\n    <tr>\n      <th>4</th>\n      <td>11410000</td>\n      <td>7420</td>\n      <td>4</td>\n      <td>1</td>\n      <td>2</td>\n      <td>yes</td>\n      <td>yes</td>\n      <td>yes</td>\n      <td>no</td>\n      <td>yes</td>\n      <td>2</td>\n      <td>no</td>\n      <td>furnished</td>\n    </tr>\n    <tr>\n      <th>5</th>\n      <td>10850000</td>\n      <td>7500</td>\n      <td>3</td>\n      <td>3</td>\n      <td>1</td>\n      <td>yes</td>\n      <td>no</td>\n      <td>yes</td>\n      <td>no</td>\n      <td>yes</td>\n      <td>2</td>\n      <td>yes</td>\n      <td>semi-furnished</td>\n    </tr>\n    <tr>\n      <th>6</th>\n      <td>10150000</td>\n      <td>8580</td>\n      <td>4</td>\n      <td>3</td>\n      <td>4</td>\n      <td>yes</td>\n      <td>no</td>\n      <td>no</td>\n      <td>no</td>\n      <td>yes</td>\n      <td>2</td>\n      <td>yes</td>\n      <td>semi-furnished</td>\n    </tr>\n    <tr>\n      <th>7</th>\n      <td>10150000</td>\n      <td>16200</td>\n      <td>5</td>\n      <td>3</td>\n      <td>2</td>\n      <td>yes</td>\n      <td>no</td>\n      <td>no</td>\n      <td>no</td>\n      <td>no</td>\n      <td>0</td>\n      <td>no</td>\n      <td>unfurnished</td>\n    </tr>\n    <tr>\n      <th>8</th>\n      <td>9870000</td>\n      <td>8100</td>\n      <td>4</td>\n      <td>1</td>\n      <td>2</td>\n      <td>yes</td>\n      <td>yes</td>\n      <td>yes</td>\n      <td>no</td>\n      <td>yes</td>\n      <td>2</td>\n      <td>yes</td>\n      <td>furnished</td>\n    </tr>\n    <tr>\n      <th>9</th>\n      <td>9800000</td>\n      <td>5750</td>\n      <td>3</td>\n      <td>2</td>\n      <td>4</td>\n      <td>yes</td>\n      <td>yes</td>\n      <td>no</td>\n      <td>no</td>\n      <td>yes</td>\n      <td>1</td>\n      <td>yes</td>\n      <td>unfurnished</td>\n    </tr>\n  </tbody>\n</table>\n</div>"
          },
          "metadata": {}
        }
      ],
      "execution_count": 32
    },
    {
      "cell_type": "code",
      "source": "data.info()",
      "metadata": {
        "trusted": true
      },
      "outputs": [
        {
          "name": "stdout",
          "text": "<class 'pandas.core.frame.DataFrame'>\nRangeIndex: 545 entries, 0 to 544\nData columns (total 13 columns):\n #   Column            Non-Null Count  Dtype \n---  ------            --------------  ----- \n 0   price             545 non-null    int64 \n 1   area              545 non-null    int64 \n 2   bedrooms          545 non-null    int64 \n 3   bathrooms         545 non-null    int64 \n 4   stories           545 non-null    int64 \n 5   mainroad          545 non-null    object\n 6   guestroom         545 non-null    object\n 7   basement          545 non-null    object\n 8   hotwaterheating   545 non-null    object\n 9   airconditioning   545 non-null    object\n 10  parking           545 non-null    int64 \n 11  prefarea          545 non-null    object\n 12  furnishingstatus  545 non-null    object\ndtypes: int64(6), object(7)\nmemory usage: 40.5+ KB\n",
          "output_type": "stream"
        }
      ],
      "execution_count": 33
    },
    {
      "cell_type": "code",
      "source": "data.shape",
      "metadata": {
        "trusted": true
      },
      "outputs": [
        {
          "execution_count": 34,
          "output_type": "execute_result",
          "data": {
            "text/plain": "(545, 13)"
          },
          "metadata": {}
        }
      ],
      "execution_count": 34
    },
    {
      "cell_type": "code",
      "source": "data.loc[data['furnishingstatus'] == 'furnished', 'furnishingstatus',] = 1\ndata.loc[data['furnishingstatus'] == 'unfurnished', 'furnishingstatus',] = 0\ndata.loc[data['furnishingstatus'] == 'semi-furnished', 'furnishingstatus',] = 0.5",
      "metadata": {
        "trusted": true
      },
      "outputs": [],
      "execution_count": 35
    },
    {
      "cell_type": "code",
      "source": "data.head(10)",
      "metadata": {
        "trusted": true
      },
      "outputs": [
        {
          "execution_count": 36,
          "output_type": "execute_result",
          "data": {
            "text/plain": "      price   area  bedrooms  bathrooms  stories mainroad guestroom basement  \\\n0  13300000   7420         4          2        3      yes        no       no   \n1  12250000   8960         4          4        4      yes        no       no   \n2  12250000   9960         3          2        2      yes        no      yes   \n3  12215000   7500         4          2        2      yes        no      yes   \n4  11410000   7420         4          1        2      yes       yes      yes   \n5  10850000   7500         3          3        1      yes        no      yes   \n6  10150000   8580         4          3        4      yes        no       no   \n7  10150000  16200         5          3        2      yes        no       no   \n8   9870000   8100         4          1        2      yes       yes      yes   \n9   9800000   5750         3          2        4      yes       yes       no   \n\n  hotwaterheating airconditioning  parking prefarea furnishingstatus  \n0              no             yes        2      yes                1  \n1              no             yes        3       no                1  \n2              no              no        2      yes              0.5  \n3              no             yes        3      yes                1  \n4              no             yes        2       no                1  \n5              no             yes        2      yes              0.5  \n6              no             yes        2      yes              0.5  \n7              no              no        0       no                0  \n8              no             yes        2      yes                1  \n9              no             yes        1      yes                0  ",
            "text/html": "<div>\n<style scoped>\n    .dataframe tbody tr th:only-of-type {\n        vertical-align: middle;\n    }\n\n    .dataframe tbody tr th {\n        vertical-align: top;\n    }\n\n    .dataframe thead th {\n        text-align: right;\n    }\n</style>\n<table border=\"1\" class=\"dataframe\">\n  <thead>\n    <tr style=\"text-align: right;\">\n      <th></th>\n      <th>price</th>\n      <th>area</th>\n      <th>bedrooms</th>\n      <th>bathrooms</th>\n      <th>stories</th>\n      <th>mainroad</th>\n      <th>guestroom</th>\n      <th>basement</th>\n      <th>hotwaterheating</th>\n      <th>airconditioning</th>\n      <th>parking</th>\n      <th>prefarea</th>\n      <th>furnishingstatus</th>\n    </tr>\n  </thead>\n  <tbody>\n    <tr>\n      <th>0</th>\n      <td>13300000</td>\n      <td>7420</td>\n      <td>4</td>\n      <td>2</td>\n      <td>3</td>\n      <td>yes</td>\n      <td>no</td>\n      <td>no</td>\n      <td>no</td>\n      <td>yes</td>\n      <td>2</td>\n      <td>yes</td>\n      <td>1</td>\n    </tr>\n    <tr>\n      <th>1</th>\n      <td>12250000</td>\n      <td>8960</td>\n      <td>4</td>\n      <td>4</td>\n      <td>4</td>\n      <td>yes</td>\n      <td>no</td>\n      <td>no</td>\n      <td>no</td>\n      <td>yes</td>\n      <td>3</td>\n      <td>no</td>\n      <td>1</td>\n    </tr>\n    <tr>\n      <th>2</th>\n      <td>12250000</td>\n      <td>9960</td>\n      <td>3</td>\n      <td>2</td>\n      <td>2</td>\n      <td>yes</td>\n      <td>no</td>\n      <td>yes</td>\n      <td>no</td>\n      <td>no</td>\n      <td>2</td>\n      <td>yes</td>\n      <td>0.5</td>\n    </tr>\n    <tr>\n      <th>3</th>\n      <td>12215000</td>\n      <td>7500</td>\n      <td>4</td>\n      <td>2</td>\n      <td>2</td>\n      <td>yes</td>\n      <td>no</td>\n      <td>yes</td>\n      <td>no</td>\n      <td>yes</td>\n      <td>3</td>\n      <td>yes</td>\n      <td>1</td>\n    </tr>\n    <tr>\n      <th>4</th>\n      <td>11410000</td>\n      <td>7420</td>\n      <td>4</td>\n      <td>1</td>\n      <td>2</td>\n      <td>yes</td>\n      <td>yes</td>\n      <td>yes</td>\n      <td>no</td>\n      <td>yes</td>\n      <td>2</td>\n      <td>no</td>\n      <td>1</td>\n    </tr>\n    <tr>\n      <th>5</th>\n      <td>10850000</td>\n      <td>7500</td>\n      <td>3</td>\n      <td>3</td>\n      <td>1</td>\n      <td>yes</td>\n      <td>no</td>\n      <td>yes</td>\n      <td>no</td>\n      <td>yes</td>\n      <td>2</td>\n      <td>yes</td>\n      <td>0.5</td>\n    </tr>\n    <tr>\n      <th>6</th>\n      <td>10150000</td>\n      <td>8580</td>\n      <td>4</td>\n      <td>3</td>\n      <td>4</td>\n      <td>yes</td>\n      <td>no</td>\n      <td>no</td>\n      <td>no</td>\n      <td>yes</td>\n      <td>2</td>\n      <td>yes</td>\n      <td>0.5</td>\n    </tr>\n    <tr>\n      <th>7</th>\n      <td>10150000</td>\n      <td>16200</td>\n      <td>5</td>\n      <td>3</td>\n      <td>2</td>\n      <td>yes</td>\n      <td>no</td>\n      <td>no</td>\n      <td>no</td>\n      <td>no</td>\n      <td>0</td>\n      <td>no</td>\n      <td>0</td>\n    </tr>\n    <tr>\n      <th>8</th>\n      <td>9870000</td>\n      <td>8100</td>\n      <td>4</td>\n      <td>1</td>\n      <td>2</td>\n      <td>yes</td>\n      <td>yes</td>\n      <td>yes</td>\n      <td>no</td>\n      <td>yes</td>\n      <td>2</td>\n      <td>yes</td>\n      <td>1</td>\n    </tr>\n    <tr>\n      <th>9</th>\n      <td>9800000</td>\n      <td>5750</td>\n      <td>3</td>\n      <td>2</td>\n      <td>4</td>\n      <td>yes</td>\n      <td>yes</td>\n      <td>no</td>\n      <td>no</td>\n      <td>yes</td>\n      <td>1</td>\n      <td>yes</td>\n      <td>0</td>\n    </tr>\n  </tbody>\n</table>\n</div>"
          },
          "metadata": {}
        }
      ],
      "execution_count": 36
    },
    {
      "cell_type": "code",
      "source": "data.loc[data['mainroad'] == 'yes', 'mainroad',] = 1\ndata.loc[data['mainroad'] == 'no', 'mainroad',] = 0",
      "metadata": {
        "trusted": true
      },
      "outputs": [],
      "execution_count": 37
    },
    {
      "cell_type": "code",
      "source": "data.loc[data['guestroom'] == 'yes', 'guestroom',] = 1\ndata.loc[data['guestroom'] == 'no', 'guestroom',] = 0",
      "metadata": {
        "trusted": true
      },
      "outputs": [],
      "execution_count": 38
    },
    {
      "cell_type": "code",
      "source": "data.loc[data['basement'] == 'yes', 'basement',] = 1\ndata.loc[data['basement'] == 'no', 'basement',] = 0",
      "metadata": {
        "trusted": true
      },
      "outputs": [],
      "execution_count": 39
    },
    {
      "cell_type": "code",
      "source": "data.loc[data['hotwaterheating'] == 'yes', 'hotwaterheating',] = 1\ndata.loc[data['hotwaterheating'] == 'no', 'hotwaterheating',] = 0",
      "metadata": {
        "trusted": true
      },
      "outputs": [],
      "execution_count": 40
    },
    {
      "cell_type": "code",
      "source": "data.loc[data['airconditioning'] == 'yes', 'airconditioning',] = 1\ndata.loc[data['airconditioning'] == 'no', 'airconditioning',] = 0",
      "metadata": {
        "trusted": true
      },
      "outputs": [],
      "execution_count": 41
    },
    {
      "cell_type": "code",
      "source": "data.loc[data['hotwaterheating'] == 'yes', 'hotwaterheating',] = 1\ndata.loc[data['hotwaterheating'] == 'no', 'hotwaterheating',] = 0",
      "metadata": {
        "trusted": true
      },
      "outputs": [],
      "execution_count": 42
    },
    {
      "cell_type": "code",
      "source": "data.loc[data['prefarea'] == 'yes', 'prefarea',] = 1\ndata.loc[data['prefarea'] == 'no', 'prefarea',] = 0",
      "metadata": {
        "trusted": true
      },
      "outputs": [],
      "execution_count": 43
    },
    {
      "cell_type": "code",
      "source": "data.head(10)",
      "metadata": {
        "trusted": true
      },
      "outputs": [
        {
          "execution_count": 44,
          "output_type": "execute_result",
          "data": {
            "text/plain": "      price   area  bedrooms  bathrooms  stories mainroad guestroom basement  \\\n0  13300000   7420         4          2        3        1         0        0   \n1  12250000   8960         4          4        4        1         0        0   \n2  12250000   9960         3          2        2        1         0        1   \n3  12215000   7500         4          2        2        1         0        1   \n4  11410000   7420         4          1        2        1         1        1   \n5  10850000   7500         3          3        1        1         0        1   \n6  10150000   8580         4          3        4        1         0        0   \n7  10150000  16200         5          3        2        1         0        0   \n8   9870000   8100         4          1        2        1         1        1   \n9   9800000   5750         3          2        4        1         1        0   \n\n  hotwaterheating airconditioning  parking prefarea furnishingstatus  \n0               0               1        2        1                1  \n1               0               1        3        0                1  \n2               0               0        2        1              0.5  \n3               0               1        3        1                1  \n4               0               1        2        0                1  \n5               0               1        2        1              0.5  \n6               0               1        2        1              0.5  \n7               0               0        0        0                0  \n8               0               1        2        1                1  \n9               0               1        1        1                0  ",
            "text/html": "<div>\n<style scoped>\n    .dataframe tbody tr th:only-of-type {\n        vertical-align: middle;\n    }\n\n    .dataframe tbody tr th {\n        vertical-align: top;\n    }\n\n    .dataframe thead th {\n        text-align: right;\n    }\n</style>\n<table border=\"1\" class=\"dataframe\">\n  <thead>\n    <tr style=\"text-align: right;\">\n      <th></th>\n      <th>price</th>\n      <th>area</th>\n      <th>bedrooms</th>\n      <th>bathrooms</th>\n      <th>stories</th>\n      <th>mainroad</th>\n      <th>guestroom</th>\n      <th>basement</th>\n      <th>hotwaterheating</th>\n      <th>airconditioning</th>\n      <th>parking</th>\n      <th>prefarea</th>\n      <th>furnishingstatus</th>\n    </tr>\n  </thead>\n  <tbody>\n    <tr>\n      <th>0</th>\n      <td>13300000</td>\n      <td>7420</td>\n      <td>4</td>\n      <td>2</td>\n      <td>3</td>\n      <td>1</td>\n      <td>0</td>\n      <td>0</td>\n      <td>0</td>\n      <td>1</td>\n      <td>2</td>\n      <td>1</td>\n      <td>1</td>\n    </tr>\n    <tr>\n      <th>1</th>\n      <td>12250000</td>\n      <td>8960</td>\n      <td>4</td>\n      <td>4</td>\n      <td>4</td>\n      <td>1</td>\n      <td>0</td>\n      <td>0</td>\n      <td>0</td>\n      <td>1</td>\n      <td>3</td>\n      <td>0</td>\n      <td>1</td>\n    </tr>\n    <tr>\n      <th>2</th>\n      <td>12250000</td>\n      <td>9960</td>\n      <td>3</td>\n      <td>2</td>\n      <td>2</td>\n      <td>1</td>\n      <td>0</td>\n      <td>1</td>\n      <td>0</td>\n      <td>0</td>\n      <td>2</td>\n      <td>1</td>\n      <td>0.5</td>\n    </tr>\n    <tr>\n      <th>3</th>\n      <td>12215000</td>\n      <td>7500</td>\n      <td>4</td>\n      <td>2</td>\n      <td>2</td>\n      <td>1</td>\n      <td>0</td>\n      <td>1</td>\n      <td>0</td>\n      <td>1</td>\n      <td>3</td>\n      <td>1</td>\n      <td>1</td>\n    </tr>\n    <tr>\n      <th>4</th>\n      <td>11410000</td>\n      <td>7420</td>\n      <td>4</td>\n      <td>1</td>\n      <td>2</td>\n      <td>1</td>\n      <td>1</td>\n      <td>1</td>\n      <td>0</td>\n      <td>1</td>\n      <td>2</td>\n      <td>0</td>\n      <td>1</td>\n    </tr>\n    <tr>\n      <th>5</th>\n      <td>10850000</td>\n      <td>7500</td>\n      <td>3</td>\n      <td>3</td>\n      <td>1</td>\n      <td>1</td>\n      <td>0</td>\n      <td>1</td>\n      <td>0</td>\n      <td>1</td>\n      <td>2</td>\n      <td>1</td>\n      <td>0.5</td>\n    </tr>\n    <tr>\n      <th>6</th>\n      <td>10150000</td>\n      <td>8580</td>\n      <td>4</td>\n      <td>3</td>\n      <td>4</td>\n      <td>1</td>\n      <td>0</td>\n      <td>0</td>\n      <td>0</td>\n      <td>1</td>\n      <td>2</td>\n      <td>1</td>\n      <td>0.5</td>\n    </tr>\n    <tr>\n      <th>7</th>\n      <td>10150000</td>\n      <td>16200</td>\n      <td>5</td>\n      <td>3</td>\n      <td>2</td>\n      <td>1</td>\n      <td>0</td>\n      <td>0</td>\n      <td>0</td>\n      <td>0</td>\n      <td>0</td>\n      <td>0</td>\n      <td>0</td>\n    </tr>\n    <tr>\n      <th>8</th>\n      <td>9870000</td>\n      <td>8100</td>\n      <td>4</td>\n      <td>1</td>\n      <td>2</td>\n      <td>1</td>\n      <td>1</td>\n      <td>1</td>\n      <td>0</td>\n      <td>1</td>\n      <td>2</td>\n      <td>1</td>\n      <td>1</td>\n    </tr>\n    <tr>\n      <th>9</th>\n      <td>9800000</td>\n      <td>5750</td>\n      <td>3</td>\n      <td>2</td>\n      <td>4</td>\n      <td>1</td>\n      <td>1</td>\n      <td>0</td>\n      <td>0</td>\n      <td>1</td>\n      <td>1</td>\n      <td>1</td>\n      <td>0</td>\n    </tr>\n  </tbody>\n</table>\n</div>"
          },
          "metadata": {}
        }
      ],
      "execution_count": 44
    },
    {
      "cell_type": "code",
      "source": "X = data[['area','bedrooms', 'bathrooms','stories','mainroad','guestroom','basement','hotwaterheating','airconditioning','parking','prefarea','furnishingstatus',]]\nY = data['price']\nprint(X)",
      "metadata": {
        "trusted": true
      },
      "outputs": [
        {
          "name": "stdout",
          "text": "     area  bedrooms  bathrooms  stories mainroad guestroom basement  \\\n0    7420         4          2        3        1         0        0   \n1    8960         4          4        4        1         0        0   \n2    9960         3          2        2        1         0        1   \n3    7500         4          2        2        1         0        1   \n4    7420         4          1        2        1         1        1   \n..    ...       ...        ...      ...      ...       ...      ...   \n540  3000         2          1        1        1         0        1   \n541  2400         3          1        1        0         0        0   \n542  3620         2          1        1        1         0        0   \n543  2910         3          1        1        0         0        0   \n544  3850         3          1        2        1         0        0   \n\n    hotwaterheating airconditioning  parking prefarea furnishingstatus  \n0                 0               1        2        1                1  \n1                 0               1        3        0                1  \n2                 0               0        2        1              0.5  \n3                 0               1        3        1                1  \n4                 0               1        2        0                1  \n..              ...             ...      ...      ...              ...  \n540               0               0        2        0                0  \n541               0               0        0        0              0.5  \n542               0               0        0        0                0  \n543               0               0        0        0                1  \n544               0               0        0        0                0  \n\n[545 rows x 12 columns]\n",
          "output_type": "stream"
        }
      ],
      "execution_count": 45
    },
    {
      "cell_type": "code",
      "source": "# # #standardizing input features before applying linear regression\nscaler = MaxAbsScaler()\ncolumns_to_scale = ['area', 'bedrooms', 'bathrooms', 'stories', 'mainroad', 'guestroom',\n                     'basement', 'hotwaterheating', 'airconditioning', 'parking',\n                     'prefarea', 'furnishingstatus']\nX_scaled = scaler.fit_transform(data[columns_to_scale])\nX_scaled = pd.DataFrame(X_scaled, columns=columns_to_scale)\nprint(X_scaled)",
      "metadata": {
        "trusted": true
      },
      "outputs": [
        {
          "name": "stdout",
          "text": "         area  bedrooms  bathrooms  stories  mainroad  guestroom  basement  \\\n0    0.458025  0.666667       0.50     0.75       1.0        0.0       0.0   \n1    0.553086  0.666667       1.00     1.00       1.0        0.0       0.0   \n2    0.614815  0.500000       0.50     0.50       1.0        0.0       1.0   \n3    0.462963  0.666667       0.50     0.50       1.0        0.0       1.0   \n4    0.458025  0.666667       0.25     0.50       1.0        1.0       1.0   \n..        ...       ...        ...      ...       ...        ...       ...   \n540  0.185185  0.333333       0.25     0.25       1.0        0.0       1.0   \n541  0.148148  0.500000       0.25     0.25       0.0        0.0       0.0   \n542  0.223457  0.333333       0.25     0.25       1.0        0.0       0.0   \n543  0.179630  0.500000       0.25     0.25       0.0        0.0       0.0   \n544  0.237654  0.500000       0.25     0.50       1.0        0.0       0.0   \n\n     hotwaterheating  airconditioning   parking  prefarea  furnishingstatus  \n0                0.0              1.0  0.666667       1.0               1.0  \n1                0.0              1.0  1.000000       0.0               1.0  \n2                0.0              0.0  0.666667       1.0               0.5  \n3                0.0              1.0  1.000000       1.0               1.0  \n4                0.0              1.0  0.666667       0.0               1.0  \n..               ...              ...       ...       ...               ...  \n540              0.0              0.0  0.666667       0.0               0.0  \n541              0.0              0.0  0.000000       0.0               0.5  \n542              0.0              0.0  0.000000       0.0               0.0  \n543              0.0              0.0  0.000000       0.0               1.0  \n544              0.0              0.0  0.000000       0.0               0.0  \n\n[545 rows x 12 columns]\n",
          "output_type": "stream"
        }
      ],
      "execution_count": 84
    },
    {
      "cell_type": "code",
      "source": "print(X.head())",
      "metadata": {
        "trusted": true
      },
      "outputs": [
        {
          "name": "stdout",
          "text": "       area  bedrooms  bathrooms   stories mainroad guestroom basement  \\\n0  0.458025  0.340992   0.263016  0.544314        1         0        0   \n1  0.553086  0.340992   1.000000  1.000000        1         0        0   \n2  0.614815  0.011487   0.263016  0.088629        1         0        1   \n3  0.462963  0.340992   0.263016  0.088629        1         0        1   \n4  0.458025  0.340992  -0.105477  0.088629        1         1        1   \n\n  hotwaterheating airconditioning   parking prefarea furnishingstatus  \n0               0               1  0.566428        1                1  \n1               0               1  1.000000        0                1  \n2               0               0  0.566428        1              0.5  \n3               0               1  1.000000        1                1  \n4               0               1  0.566428        0                1  \n",
          "output_type": "stream"
        }
      ],
      "execution_count": 85
    },
    {
      "cell_type": "code",
      "source": "X_train, X_test, Y_train, Y_test = train_test_split(X, Y, test_size=0.1, random_state=3)",
      "metadata": {
        "trusted": true
      },
      "outputs": [],
      "execution_count": 86
    },
    {
      "cell_type": "code",
      "source": "print(X.shape)\nprint(X_train.shape)\nprint(X_test.shape)",
      "metadata": {
        "trusted": true
      },
      "outputs": [
        {
          "name": "stdout",
          "text": "(545, 12)\n(490, 12)\n(55, 12)\n",
          "output_type": "stream"
        }
      ],
      "execution_count": 87
    },
    {
      "cell_type": "code",
      "source": "print(Y.shape)\nprint(Y_train.shape)\nprint(Y_test.shape)",
      "metadata": {
        "trusted": true
      },
      "outputs": [
        {
          "name": "stdout",
          "text": "(545,)\n(490,)\n(55,)\n",
          "output_type": "stream"
        }
      ],
      "execution_count": 88
    },
    {
      "cell_type": "code",
      "source": "model = LinearRegression()",
      "metadata": {
        "trusted": true
      },
      "outputs": [],
      "execution_count": 89
    },
    {
      "cell_type": "code",
      "source": "model.fit(X_train, Y_train)",
      "metadata": {
        "trusted": true
      },
      "outputs": [
        {
          "execution_count": 90,
          "output_type": "execute_result",
          "data": {
            "text/plain": "LinearRegression()",
            "text/html": "<style>#sk-container-id-3 {color: black;}#sk-container-id-3 pre{padding: 0;}#sk-container-id-3 div.sk-toggleable {background-color: white;}#sk-container-id-3 label.sk-toggleable__label {cursor: pointer;display: block;width: 100%;margin-bottom: 0;padding: 0.3em;box-sizing: border-box;text-align: center;}#sk-container-id-3 label.sk-toggleable__label-arrow:before {content: \"▸\";float: left;margin-right: 0.25em;color: #696969;}#sk-container-id-3 label.sk-toggleable__label-arrow:hover:before {color: black;}#sk-container-id-3 div.sk-estimator:hover label.sk-toggleable__label-arrow:before {color: black;}#sk-container-id-3 div.sk-toggleable__content {max-height: 0;max-width: 0;overflow: hidden;text-align: left;background-color: #f0f8ff;}#sk-container-id-3 div.sk-toggleable__content pre {margin: 0.2em;color: black;border-radius: 0.25em;background-color: #f0f8ff;}#sk-container-id-3 input.sk-toggleable__control:checked~div.sk-toggleable__content {max-height: 200px;max-width: 100%;overflow: auto;}#sk-container-id-3 input.sk-toggleable__control:checked~label.sk-toggleable__label-arrow:before {content: \"▾\";}#sk-container-id-3 div.sk-estimator input.sk-toggleable__control:checked~label.sk-toggleable__label {background-color: #d4ebff;}#sk-container-id-3 div.sk-label input.sk-toggleable__control:checked~label.sk-toggleable__label {background-color: #d4ebff;}#sk-container-id-3 input.sk-hidden--visually {border: 0;clip: rect(1px 1px 1px 1px);clip: rect(1px, 1px, 1px, 1px);height: 1px;margin: -1px;overflow: hidden;padding: 0;position: absolute;width: 1px;}#sk-container-id-3 div.sk-estimator {font-family: monospace;background-color: #f0f8ff;border: 1px dotted black;border-radius: 0.25em;box-sizing: border-box;margin-bottom: 0.5em;}#sk-container-id-3 div.sk-estimator:hover {background-color: #d4ebff;}#sk-container-id-3 div.sk-parallel-item::after {content: \"\";width: 100%;border-bottom: 1px solid gray;flex-grow: 1;}#sk-container-id-3 div.sk-label:hover label.sk-toggleable__label {background-color: #d4ebff;}#sk-container-id-3 div.sk-serial::before {content: \"\";position: absolute;border-left: 1px solid gray;box-sizing: border-box;top: 0;bottom: 0;left: 50%;z-index: 0;}#sk-container-id-3 div.sk-serial {display: flex;flex-direction: column;align-items: center;background-color: white;padding-right: 0.2em;padding-left: 0.2em;position: relative;}#sk-container-id-3 div.sk-item {position: relative;z-index: 1;}#sk-container-id-3 div.sk-parallel {display: flex;align-items: stretch;justify-content: center;background-color: white;position: relative;}#sk-container-id-3 div.sk-item::before, #sk-container-id-3 div.sk-parallel-item::before {content: \"\";position: absolute;border-left: 1px solid gray;box-sizing: border-box;top: 0;bottom: 0;left: 50%;z-index: -1;}#sk-container-id-3 div.sk-parallel-item {display: flex;flex-direction: column;z-index: 1;position: relative;background-color: white;}#sk-container-id-3 div.sk-parallel-item:first-child::after {align-self: flex-end;width: 50%;}#sk-container-id-3 div.sk-parallel-item:last-child::after {align-self: flex-start;width: 50%;}#sk-container-id-3 div.sk-parallel-item:only-child::after {width: 0;}#sk-container-id-3 div.sk-dashed-wrapped {border: 1px dashed gray;margin: 0 0.4em 0.5em 0.4em;box-sizing: border-box;padding-bottom: 0.4em;background-color: white;}#sk-container-id-3 div.sk-label label {font-family: monospace;font-weight: bold;display: inline-block;line-height: 1.2em;}#sk-container-id-3 div.sk-label-container {text-align: center;}#sk-container-id-3 div.sk-container {/* jupyter's `normalize.less` sets `[hidden] { display: none; }` but bootstrap.min.css set `[hidden] { display: none !important; }` so we also need the `!important` here to be able to override the default hidden behavior on the sphinx rendered scikit-learn.org. See: https://github.com/scikit-learn/scikit-learn/issues/21755 */display: inline-block !important;position: relative;}#sk-container-id-3 div.sk-text-repr-fallback {display: none;}</style><div id=\"sk-container-id-3\" class=\"sk-top-container\"><div class=\"sk-text-repr-fallback\"><pre>LinearRegression()</pre><b>In a Jupyter environment, please rerun this cell to show the HTML representation or trust the notebook. <br />On GitHub, the HTML representation is unable to render, please try loading this page with nbviewer.org.</b></div><div class=\"sk-container\" hidden><div class=\"sk-item\"><div class=\"sk-estimator sk-toggleable\"><input class=\"sk-toggleable__control sk-hidden--visually\" id=\"sk-estimator-id-3\" type=\"checkbox\" checked><label for=\"sk-estimator-id-3\" class=\"sk-toggleable__label sk-toggleable__label-arrow\">LinearRegression</label><div class=\"sk-toggleable__content\"><pre>LinearRegression()</pre></div></div></div></div></div>"
          },
          "metadata": {}
        }
      ],
      "execution_count": 90
    },
    {
      "cell_type": "code",
      "source": "prediction_on_training_data = model.predict(X_train)",
      "metadata": {
        "trusted": true
      },
      "outputs": [],
      "execution_count": 91
    },
    {
      "cell_type": "code",
      "source": "r_sqaure_train = r2_score(Y_train, prediction_on_training_data)",
      "metadata": {
        "trusted": true
      },
      "outputs": [],
      "execution_count": 92
    },
    {
      "cell_type": "code",
      "source": "print(f\"R-squared value for training data = {r_sqaure_train}\")",
      "metadata": {
        "trusted": true
      },
      "outputs": [
        {
          "name": "stdout",
          "text": "R-squared value for training data = 0.6812635398623481\n",
          "output_type": "stream"
        }
      ],
      "execution_count": 93
    },
    {
      "cell_type": "code",
      "source": "prediction_on_testing_data = model.predict(X_test)\nr_square_test = r2_score(Y_test, prediction_on_testing_data)\nprint(f\"R-squared value for testing data = {r_sqaure_train}\")",
      "metadata": {
        "trusted": true
      },
      "outputs": [
        {
          "name": "stdout",
          "text": "R-squared value for testing data = 0.6812635398623481\n",
          "output_type": "stream"
        }
      ],
      "execution_count": 94
    }
  ]
}